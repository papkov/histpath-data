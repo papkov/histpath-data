{
 "cells": [
  {
   "cell_type": "code",
   "execution_count": 1,
   "metadata": {},
   "outputs": [],
   "source": [
    "import glob\n",
    "import os\n",
    "import math\n",
    "import json\n",
    "import random\n",
    "from openslide import OpenSlide\n",
    "from openslide.deepzoom import DeepZoomGenerator\n",
    "import matplotlib.pyplot as plt\n",
    "from PIL import ImageDraw\n",
    "\n",
    "\n",
    "%matplotlib inline\n",
    "\n",
    "# Fir virtualenv autocompletion.\n",
    "%config Completer.use_jedi = False\n",
    "\n",
    "DATA_ROOT = '../data/'"
   ]
  },
  {
   "cell_type": "code",
   "execution_count": 2,
   "metadata": {},
   "outputs": [],
   "source": [
    "def load_mrxs_files(data_dir):\n",
    "    full_paths = glob.glob(data_dir + '*.mrxs')\n",
    "    return [os.path.basename(file) for file in full_paths]"
   ]
  },
  {
   "cell_type": "code",
   "execution_count": 3,
   "metadata": {},
   "outputs": [],
   "source": [
    "def load_annotations(mrxs_files):\n",
    "    anns = []\n",
    "    ann_files = [ file.replace('mrxs', 'json') for file in mrxs_files]\n",
    "    for file in ann_files:\n",
    "        with open(DATA_ROOT + file) as f:\n",
    "            ann_json = json.load(f)\n",
    "            anns.append(ann_json)\n",
    "    return tuple(anns)"
   ]
  },
  {
   "cell_type": "code",
   "execution_count": 4,
   "metadata": {},
   "outputs": [],
   "source": [
    "mrxs_files = load_mrxs_files(DATA_ROOT)\n",
    "annotations = load_annotations(mrxs_files)\n",
    "slides = []\n",
    "for file in mrxs_files:\n",
    "    slides.append(OpenSlide(DATA_ROOT + file))"
   ]
  },
  {
   "cell_type": "markdown",
   "metadata": {},
   "source": [
    "## Slide object parameters"
   ]
  },
  {
   "cell_type": "code",
   "execution_count": 5,
   "metadata": {},
   "outputs": [
    {
     "name": "stdout",
     "output_type": "stream",
     "text": [
      "Levels: 10\n",
      "\tLVL 0 -   177152 X 416768 px\n",
      "\tLVL 1 -    88576 X 208384 px\n",
      "\tLVL 2 -    44288 X 104192 px\n",
      "\tLVL 3 -    22144 X 52096 px\n",
      "\tLVL 4 -    11072 X 26048 px\n",
      "\tLVL 5 -     5536 X 13024 px\n",
      "\tLVL 6 -     2768 X 6512 px\n",
      "\tLVL 7 -     1384 X 3256 px\n",
      "\tLVL 8 -      692 X 1628 px\n",
      "\tLVL 9 -      346 X 814 px\n"
     ]
    }
   ],
   "source": [
    "slide = slides[0]\n",
    "print(\"Levels: {}\".format(slide.level_count))\n",
    "for idx, dimensions in enumerate(slide.level_dimensions):\n",
    "    print(\"\\tLVL {} - {:8d} X {} px\".format(idx, dimensions[0], dimensions[1]))"
   ]
  },
  {
   "cell_type": "markdown",
   "metadata": {},
   "source": [
    "## Annotations file example \n",
    "\n",
    "Selecting an annotation and displaying the annotated section in the middle of image."
   ]
  },
  {
   "cell_type": "code",
   "execution_count": 6,
   "metadata": {},
   "outputs": [
    {
     "data": {
      "text/plain": [
       "{'geometry': {'annotation_type': 'ELLIPSE',\n",
       "  'origin_point': [0, 0],\n",
       "  'points': [[123620, 194814], [123722, 194887]]},\n",
       " 'id': '1',\n",
       " 'label': 'annotation_1',\n",
       " 'tree_view_config': {'display_pattern': '{label}',\n",
       "  'decoration_attr': 'figure_graphics_view_config.color',\n",
       "  'decoration_size': None},\n",
       " 'text_graphics_view_config': {'display_pattern': '{label}\\\\n{stats[text]}\\\\n{filter_results[text]}',\n",
       "  'hidden': False,\n",
       "  'background_color': '#32cd32'},\n",
       " 'figure_graphics_view_config': {'hidden': False, 'color': '#32cd32'},\n",
       " 'stats': {'text': 'area: 88µ²',\n",
       "  'area': 88,\n",
       "  'area_px': 5986,\n",
       "  'area_text': 'area: 88µ²',\n",
       "  'length': None,\n",
       "  'length_px': None,\n",
       "  'length_text': None},\n",
       " 'filter_id': None,\n",
       " 'filter_level': None,\n",
       " 'filter_results': None,\n",
       " 'user_attrs': {'z_index': 'type 1', 'ROI': 'true', 'label_color 1': '1'}}"
      ]
     },
     "execution_count": 6,
     "metadata": {},
     "output_type": "execute_result"
    }
   ],
   "source": [
    "annotations[0]['annotations']['1']"
   ]
  },
  {
   "cell_type": "code",
   "execution_count": 27,
   "metadata": {},
   "outputs": [],
   "source": [
    "def show_annotated_section(annotation, slide, image_size=512, save=False, filename=None):\n",
    "    \"\"\"\n",
    "        Shows a single annotation centred in the image.\n",
    "        image_size - returned image size\n",
    "    \"\"\"\n",
    "    ann_type = annotation['geometry']['annotation_type']\n",
    "\n",
    "    if ann_type != 'ELLIPSE':\n",
    "        raise NotImplementedError\n",
    "        \n",
    "    colors = {\n",
    "        'label_color 1' : 'blue',\n",
    "        'label_color 2' : 'green',\n",
    "        'label_color 3' : 'red',\n",
    "        'label_color 4' : 'yellow'\n",
    "    }\n",
    "       \n",
    "    \n",
    "    # Annotations are for ellipses that are defined by\n",
    "    # two points of bounding boxes.\n",
    "    ann_points = annotation['geometry']['points']\n",
    "    x1, y1 = ann_points[0][0], ann_points[0][1]\n",
    "    x2, y2 = ann_points[1][0], ann_points[1][1]\n",
    "    \n",
    "    # Locate the region so that the annotation first\n",
    "    # coordinate is in the middle of the section.\n",
    "    img = slide.read_region(\n",
    "        location = (x1 - image_size//2, y1 - image_size//2),\n",
    "        level = 0,\n",
    "        size = (image_size, image_size)\n",
    "    )\n",
    "    \n",
    "\n",
    "    # Ellipse starts from the middle of image.\n",
    "    point1 = (image_size//2, image_size//2)\n",
    "    # Ends where the second box is relative to the image.\n",
    "    point2 = (image_size//2 + (x2 -x1), image_size//2 + (y2 -y1))\n",
    "    # Pillow draws only if point1 < point2,\n",
    "    # so that the point1 is upper left and point2 is lower right.\n",
    "    if point1 > point2:\n",
    "        #Swap\n",
    "        point1, point2 = point2, point1\n",
    "        \n",
    "    # Color according to label.\n",
    "    # White to check if there are missing labels.\n",
    "    outline_color = 'white' \n",
    "    for key in annotation['user_attrs'].keys():\n",
    "        if key in colors.keys():\n",
    "            outline_color = colors[key]\n",
    " \n",
    "    # Draw an ellipse over the image\n",
    "    draw = ImageDraw.Draw(img)\n",
    "    draw.ellipse(\n",
    "        [\n",
    "            point1,\n",
    "            point2\n",
    "        ],\n",
    "        width=5,\n",
    "        outline=outline_color\n",
    "    )\n",
    "    \n",
    "    if save:\n",
    "        if filename == None:\n",
    "            filename = annotation['label'] + '.png'\n",
    "        img.save('./samples/' + filename)\n",
    "    else:\n",
    "          display(img)"
   ]
  },
  {
   "cell_type": "code",
   "execution_count": 36,
   "metadata": {
    "scrolled": false
   },
   "outputs": [],
   "source": [
    "show_annotated_section(annotations[0]['annotations']['70'], slide, 512, save=True)"
   ]
  },
  {
   "cell_type": "markdown",
   "metadata": {},
   "source": [
    "## Creating list of slides\n",
    "\n",
    "Slicing trough the image with a predefined resolution to create slides.\n",
    "Collecting annotation information for each slide."
   ]
  },
  {
   "cell_type": "code",
   "execution_count": 9,
   "metadata": {},
   "outputs": [],
   "source": [
    "def create_tiles_with_annotation(annotations, slide, tile_size=1024):\n",
    "    x_dim = slide.level_dimensions[0][0]\n",
    "    y_dim = slide.level_dimensions[0][1]\n",
    "    \n",
    "    tile_annotations = []\n",
    "    # Moving through image with tiles.\n",
    "    for x in range(0, x_dim, 1024):\n",
    "        for y in range(0, y_dim, 1024):\n",
    "            tile_info = {}\n",
    "            \n",
    "            # Top left pixel of tile.\n",
    "            x_0 = (x, y)\n",
    "            # Bottom right pixel.\n",
    "            x_1 = (x + tile_size, y + tile_size)\n",
    "\n",
    "            # Collect all annotations inside tile.\n",
    "            tile_anns = []\n",
    "            # Check if there are annotations inside tile.\n",
    "            for ann in annotations['annotations']:\n",
    "                centres = annotations['annotations'][ann]['geometry']['points']\n",
    "\n",
    "                ann_in_image = False\n",
    "                for point in centres:\n",
    "                    x_p, y_p = point\n",
    "                    # Point inside tile.\n",
    "                    if x_p < x_1[0] and x_p > x_0[0] and y_p < x_1[1] and y_p > x_0[1]:\n",
    "                        ann_in_image = True\n",
    "\n",
    "                if ann_in_image:\n",
    "                    tile_anns.append(annotations['annotations'][ann])\n",
    "\n",
    "            \n",
    "            tile_info['top_left'] = x_0\n",
    "            tile_info['image_size'] = tile_size\n",
    "            tile_info['annotations'] = tile_anns\n",
    "            \n",
    "            tile_annotations.append(tile_info)\n",
    "    return tile_annotations"
   ]
  },
  {
   "cell_type": "markdown",
   "metadata": {},
   "source": [
    "# Statistics\n",
    "\n",
    "Gather statistics about created slides"
   ]
  },
  {
   "cell_type": "code",
   "execution_count": 10,
   "metadata": {},
   "outputs": [],
   "source": [
    "def show_tiles_statistics(annotated_tiles):\n",
    "    tot_count = len(annotated_tiles)\n",
    "    empty_images = 0\n",
    "    annotated_images = 0\n",
    "    max_annotations_in_image = 0\n",
    "    \n",
    "    for tile in annotated_tiles:\n",
    "        if len(tile['annotations']) == 0:\n",
    "            empty_images += 1\n",
    "        else:\n",
    "            annotated_images += 1\n",
    "            num_annotations = len(tile['annotations'])\n",
    "            if num_annotations > max_annotations_in_image:\n",
    "                max_annotations_in_image = num_annotations\n",
    "\n",
    "    print('Total slides: \\t\\t{}'.format(tot_count))\n",
    "    print('Slides not annotated: \\t{}'.format(empty_images))\n",
    "    print(\"Annotated slides: \\t{}\".format(annotated_images))\n",
    "    print(\"Max annotations: \\t{}\".format(max_annotations_in_image))\n"
   ]
  },
  {
   "cell_type": "code",
   "execution_count": 11,
   "metadata": {
    "scrolled": true
   },
   "outputs": [
    {
     "name": "stdout",
     "output_type": "stream",
     "text": [
      "Total slides: \t\t70411\n",
      "Slides not annotated: \t70353\n",
      "Annotated slides: \t58\n",
      "Max annotations: \t19\n"
     ]
    }
   ],
   "source": [
    "slide_annotated_tiles = create_tiles_with_annotation(annotations[0], slide)\n",
    "show_tiles_statistics(slide_annotated_tiles)"
   ]
  },
  {
   "cell_type": "code",
   "execution_count": 38,
   "metadata": {},
   "outputs": [],
   "source": [
    "def show_tile_annotations(annotated_tiles, slide, num_images=1, save=False, filename = None):\n",
    "    \"\"\"\n",
    "    Display tiles with annotatied images\n",
    "    \"\"\"\n",
    "    tiles_with_annotations = []\n",
    "\n",
    "    # Select tiles only with annotations.\n",
    "    for tile in annotated_tiles:\n",
    "        if len(tile['annotations']) > 0:\n",
    "            tiles_with_annotations.append(tile)\n",
    "\n",
    "    # Add different color for different label.\n",
    "    # The only key that changes in annotations file is\n",
    "    # label_color_* that may represent label.\n",
    "    colors = {\n",
    "        'label_color 1' : 'blue',\n",
    "        'label_color 2' : 'green',\n",
    "        'label_color 3' : 'red',\n",
    "        'label_color 4' : 'yellow'\n",
    "    }\n",
    "\n",
    "    sample = random.sample(tiles_with_annotations, num_images)\n",
    "    for tile in sample:\n",
    "        top_left = tile['top_left']\n",
    "\n",
    "        img = slide.read_region(\n",
    "            location = (\n",
    "                top_left[0],\n",
    "                top_left[1]\n",
    "            ),\n",
    "            level = 0,\n",
    "            size = (tile['image_size'], tile['image_size'])\n",
    "        )\n",
    "\n",
    "        for ann in tile['annotations']:\n",
    "            ann_points = ann['geometry']['points']\n",
    "            x1, y1 = ann_points[0][0], ann_points[0][1]\n",
    "            x2, y2 = ann_points[1][0], ann_points[1][1]\n",
    "            # Drawing points are relative to the top left\n",
    "            # as the new image top left is (0,0)\n",
    "            point1 = (\n",
    "                x1 - top_left[0], \n",
    "                y1 - top_left[1]\n",
    "            )\n",
    "            point2 = (\n",
    "                x2 - top_left[0],\n",
    "                y2 - top_left[1]\n",
    "            )\n",
    "            # Pillow draws only if point1 < point2,\n",
    "            # so that the point1 is upper left and point2 is lower right.\n",
    "            if point1 > point2:\n",
    "                #Swap\n",
    "                point1, point2 = point2, point1\n",
    "                \n",
    "            # Color according to label.\n",
    "            outline_color = 'white'\n",
    "            for key in ann['user_attrs'].keys():\n",
    "                if key in colors.keys():\n",
    "                    outline_color = colors[key]\n",
    "\n",
    "            # Draw an ellipse over the image\n",
    "            draw = ImageDraw.Draw(img)\n",
    "            draw.ellipse(\n",
    "                [\n",
    "                    point1,\n",
    "                    point2\n",
    "                ],\n",
    "                width=4,\n",
    "                outline=outline_color\n",
    "            )\n",
    "        \n",
    "        if save:\n",
    "            if filename == None:\n",
    "                filename = \"tile_{}_{}.png\".format(top_left[0], top_left[1])\n",
    "            img.save('./samples/' + filename)\n",
    "        else:\n",
    "              display(img)"
   ]
  },
  {
   "cell_type": "code",
   "execution_count": 39,
   "metadata": {},
   "outputs": [],
   "source": [
    "show_tile_annotations(slide_annotated_tiles, slide, num_images=3, save=True)"
   ]
  }
 ],
 "metadata": {
  "kernelspec": {
   "display_name": "Python 3",
   "language": "python",
   "name": "python3"
  },
  "language_info": {
   "codemirror_mode": {
    "name": "ipython",
    "version": 3
   },
   "file_extension": ".py",
   "mimetype": "text/x-python",
   "name": "python",
   "nbconvert_exporter": "python",
   "pygments_lexer": "ipython3",
   "version": "3.6.3"
  }
 },
 "nbformat": 4,
 "nbformat_minor": 4
}
